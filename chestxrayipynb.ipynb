{
  "cells": [
    {
      "cell_type": "code",
      "execution_count": null,
      "metadata": {
        "colab": {
          "base_uri": "https://localhost:8080/"
        },
        "id": "XtA5lLKtWyCM",
        "outputId": "c6c0bdc5-7c9f-4828-c3c5-428f78f08441"
      },
      "outputs": [
        {
          "name": "stdout",
          "output_type": "stream",
          "text": [
            "Using Colab cache for faster access to the 'chest-xray-pneumonia' dataset.\n",
            "Path to dataset files: /kaggle/input/chest-xray-pneumonia\n"
          ]
        }
      ],
      "source": [
        "import kagglehub\n",
        "\n",
        "# Download latest version\n",
        "path = kagglehub.dataset_download(\"paultimothymooney/chest-xray-pneumonia\")\n",
        "\n",
        "print(\"Path to dataset files:\", path)"
      ]
    },
    {
      "cell_type": "code",
      "execution_count": null,
      "metadata": {
        "colab": {
          "base_uri": "https://localhost:8080/"
        },
        "id": "2zSivop8W4SL",
        "outputId": "f9c9a06c-8a95-4548-d738-4bbf8f9c6d6a"
      },
      "outputs": [
        {
          "name": "stdout",
          "output_type": "stream",
          "text": [
            "Dataset copied to: /content/chest-xray-pneumonia\n"
          ]
        }
      ],
      "source": [
        "import shutil\n",
        "\n",
        "# source (read-only) dataset\n",
        "src = \"/kaggle/input/chest-xray-pneumonia\"\n",
        "\n",
        "# destination (writable)\n",
        "dst = \"/content/chest-xray-pneumonia\"\n",
        "\n",
        "# copy recursively\n",
        "shutil.copytree(src, dst, dirs_exist_ok=True)\n",
        "\n",
        "print(\"Dataset copied to:\", dst)\n"
      ]
    },
    {
      "cell_type": "code",
      "execution_count": null,
      "metadata": {
        "colab": {
          "base_uri": "https://localhost:8080/"
        },
        "id": "C59heoA4XSlp",
        "outputId": "9f6f16cc-a8a1-49dd-f4c5-9476b969abe5"
      },
      "outputs": [
        {
          "name": "stdout",
          "output_type": "stream",
          "text": [
            "\n",
            "📂 TRAIN SET:\n",
            "   NORMAL: 1342\n",
            "   PNEUMONIA: 3876\n",
            "   Total: 5218\n",
            "\n",
            "📂 VAL SET:\n",
            "   NORMAL: 9\n",
            "   PNEUMONIA: 9\n",
            "   Total: 18\n",
            "\n",
            "📂 TEST SET:\n",
            "   NORMAL: 234\n",
            "   PNEUMONIA: 390\n",
            "   Total: 624\n"
          ]
        }
      ],
      "source": [
        "import os\n",
        "\n",
        "base_dir = \"/content/chest-xray-pneumonia/chest_xray/chest_xray\"\n",
        "\n",
        "# Loop through train, val, test\n",
        "for split in [\"train\", \"val\", \"test\"]:\n",
        "    print(f\"\\n📂 {split.upper()} SET:\")\n",
        "    split_path = os.path.join(base_dir, split)\n",
        "\n",
        "    for category in [\"NORMAL\", \"PNEUMONIA\"]:\n",
        "        category_path = os.path.join(split_path, category)\n",
        "        count = len(os.listdir(category_path))\n",
        "        print(f\"   {category}: {count}\")\n",
        "\n",
        "    total = sum(len(os.listdir(os.path.join(split_path, c))) for c in [\"NORMAL\", \"PNEUMONIA\"])\n",
        "    print(f\"   Total: {total}\")\n"
      ]
    },
    {
      "cell_type": "code",
      "execution_count": null,
      "metadata": {
        "id": "dRaI11faYdGW"
      },
      "outputs": [],
      "source": [
        "import torch\n",
        "import torch.nn as nn\n",
        "import torch.optim as optim\n",
        "from torch.utils.data import DataLoader\n",
        "from torchvision import datasets, models, transforms\n",
        "from sklearn.utils.class_weight import compute_class_weight\n",
        "import numpy as np\n"
      ]
    },
    {
      "cell_type": "code",
      "execution_count": null,
      "metadata": {
        "id": "oXmSGokidsDk"
      },
      "outputs": [],
      "source": [
        "import torch\n",
        "from torch.utils.data import DataLoader\n",
        "from torchvision import transforms, datasets\n",
        "from torchvision.datasets import ImageFolder\n",
        "\n",
        "\n",
        "\n",
        "# Augmentation for NORMAL (to oversample)\n",
        "normal_transform = transforms.Compose([\n",
        "    transforms.RandomHorizontalFlip(),\n",
        "    transforms.RandomRotation(20),\n",
        "    transforms.RandomResizedCrop(224, scale=(0.8, 1.0)),\n",
        "    transforms.ColorJitter(brightness=0.2, contrast=0.2),\n",
        "    transforms.ToTensor(),\n",
        "    transforms.Normalize([0.485, 0.456, 0.406],\n",
        "                         [0.229, 0.224, 0.225])\n",
        "])\n",
        "\n",
        "# Light augmentation for PNEUMONIA\n",
        "pneumonia_transform = transforms.Compose([\n",
        "    transforms.RandomHorizontalFlip(),\n",
        "    transforms.RandomRotation(15),\n",
        "    transforms.RandomResizedCrop(224, scale=(0.85, 1.0)),\n",
        "    transforms.ColorJitter(brightness=0.15, contrast=0.15),\n",
        "    transforms.ToTensor(),\n",
        "    transforms.Normalize([0.485, 0.456, 0.406],\n",
        "                         [0.229, 0.224, 0.225])\n",
        "])\n",
        "\n",
        "\n",
        "# Validation/Test (only resize + normalize)\n",
        "val_test_transform = transforms.Compose([\n",
        "    transforms.Resize((224, 224)),\n",
        "    transforms.ToTensor(),\n",
        "    transforms.Normalize([0.485, 0.456, 0.406],\n",
        "                         [0.229, 0.224, 0.225])\n",
        "])\n",
        "\n",
        "\n",
        "\n",
        "\n",
        "\n",
        "\n",
        "\n"
      ]
    },
    {
      "cell_type": "code",
      "execution_count": null,
      "metadata": {
        "id": "oLT02ZA119Sb"
      },
      "outputs": [],
      "source": [
        "\n",
        "class HybridDataset(ImageFolder):\n",
        "    def __getitem__(self, index):\n",
        "        path, target = self.samples[index]\n",
        "        sample = self.loader(path)\n",
        "\n",
        "        # Apply transform based on class\n",
        "        if target == 0:   # NORMAL\n",
        "            sample = normal_transform(sample)\n",
        "        else:             # PNEUMONIA\n",
        "            sample = pneumonia_transform(sample)\n",
        "\n",
        "        return sample, target"
      ]
    },
    {
      "cell_type": "code",
      "execution_count": null,
      "metadata": {
        "id": "XEYGXEGj17gN"
      },
      "outputs": [],
      "source": [
        "\n",
        "data_dir = \"/content/chest-xray-pneumonia/chest_xray/chest_xray\"\n",
        "\n",
        "train_dataset = HybridDataset(root=f\"{data_dir}/train\", transform=None)\n",
        "val_dataset   = ImageFolder(root=f\"{data_dir}/val\", transform=val_test_transform)\n",
        "test_dataset  = ImageFolder(root=f\"{data_dir}/test\", transform=val_test_transform)\n"
      ]
    },
    {
      "cell_type": "code",
      "execution_count": null,
      "metadata": {
        "id": "VfVVutbp12p6"
      },
      "outputs": [],
      "source": [
        "\n",
        "train_loader = DataLoader(train_dataset, batch_size=32, shuffle=True)\n",
        "val_loader   = DataLoader(val_dataset, batch_size=32, shuffle=False)\n",
        "test_loader  = DataLoader(test_dataset, batch_size=32, shuffle=False)\n"
      ]
    },
    {
      "cell_type": "code",
      "execution_count": null,
      "metadata": {
        "colab": {
          "base_uri": "https://localhost:8080/"
        },
        "id": "sFaBypPO11xc",
        "outputId": "ac998714-16cd-4ed6-ddfe-ff94060bb49e"
      },
      "outputs": [
        {
          "name": "stdout",
          "output_type": "stream",
          "text": [
            "Train classes: ['NORMAL', 'PNEUMONIA']\n",
            "Validation classes: ['NORMAL', 'PNEUMONIA']\n",
            "Test classes: ['NORMAL', 'PNEUMONIA']\n",
            "Train size: 5216\n",
            "Val size: 16\n",
            "Test size: 624\n"
          ]
        }
      ],
      "source": [
        "\n",
        "print(f\"Train classes: {train_dataset.classes}\")\n",
        "print(f\"Validation classes: {val_dataset.classes}\")\n",
        "print(f\"Test classes: {test_dataset.classes}\")\n",
        "\n",
        "print(f\"Train size: {len(train_dataset)}\")\n",
        "print(f\"Val size: {len(val_dataset)}\")\n",
        "print(f\"Test size: {len(test_dataset)}\")\n"
      ]
    },
    {
      "cell_type": "code",
      "execution_count": null,
      "metadata": {
        "colab": {
          "base_uri": "https://localhost:8080/"
        },
        "id": "YoWpRwSwaACM",
        "outputId": "789de5b8-38d7-4292-81b7-839494a45e5c"
      },
      "outputs": [
        {
          "data": {
            "text/plain": [
              "(163, 1)"
            ]
          },
          "execution_count": 10,
          "metadata": {},
          "output_type": "execute_result"
        }
      ],
      "source": [
        "len(train_loader),len(val_loader)"
      ]
    },
    {
      "cell_type": "code",
      "execution_count": null,
      "metadata": {
        "colab": {
          "base_uri": "https://localhost:8080/"
        },
        "id": "WyawpLb3aCa-",
        "outputId": "a36d2984-e121-422d-90a3-6887a29cf8fa"
      },
      "outputs": [
        {
          "data": {
            "text/plain": [
              "<torch.utils.data.dataloader.DataLoader at 0x7a327bd9eae0>"
            ]
          },
          "execution_count": 11,
          "metadata": {},
          "output_type": "execute_result"
        }
      ],
      "source": [
        "test_loader"
      ]
    },
    {
      "cell_type": "code",
      "execution_count": null,
      "metadata": {
        "colab": {
          "base_uri": "https://localhost:8080/"
        },
        "id": "DMChLe4PaIIf",
        "outputId": "3226d608-ad44-4c64-b427-e00266c17116"
      },
      "outputs": [
        {
          "name": "stdout",
          "output_type": "stream",
          "text": [
            "Using device: cuda\n",
            "Class Weights: tensor([1.9448, 0.6730], device='cuda:0')\n"
          ]
        }
      ],
      "source": [
        "import torch\n",
        "from sklearn.utils.class_weight import compute_class_weight\n",
        "import numpy as np\n",
        "\n",
        "# Device: use GPU if available, else CPU\n",
        "device = torch.device(\"cuda\" if torch.cuda.is_available() else \"cpu\")\n",
        "\n",
        "# Get labels for training set\n",
        "train_labels = [y for _, y in train_dataset.samples]\n",
        "\n",
        "# Compute class weights\n",
        "class_weights = compute_class_weight(\n",
        "    class_weight=\"balanced\",\n",
        "    classes=np.unique(train_labels),\n",
        "    y=train_labels\n",
        ")\n",
        "\n",
        "# Convert to tensor on correct device\n",
        "class_weights = torch.tensor(class_weights, dtype=torch.float).to(device)\n",
        "\n",
        "print(\"Using device:\", device)\n",
        "print(\"Class Weights:\", class_weights)\n"
      ]
    },
    {
      "cell_type": "code",
      "execution_count": null,
      "metadata": {
        "colab": {
          "base_uri": "https://localhost:8080/"
        },
        "id": "xacwckKZl4xx",
        "outputId": "a0fef344-194e-4897-8428-dcd3d18c5019"
      },
      "outputs": [
        {
          "name": "stderr",
          "output_type": "stream",
          "text": [
            "/usr/local/lib/python3.12/dist-packages/torchvision/models/_utils.py:208: UserWarning: The parameter 'pretrained' is deprecated since 0.13 and may be removed in the future, please use 'weights' instead.\n",
            "  warnings.warn(\n",
            "/usr/local/lib/python3.12/dist-packages/torchvision/models/_utils.py:223: UserWarning: Arguments other than a weight enum or `None` for 'weights' are deprecated since 0.13 and may be removed in the future. The current behavior is equivalent to passing `weights=ResNet18_Weights.IMAGENET1K_V1`. You can also use `weights=ResNet18_Weights.DEFAULT` to get the most up-to-date weights.\n",
            "  warnings.warn(msg)\n"
          ]
        },
        {
          "name": "stdout",
          "output_type": "stream",
          "text": [
            "Downloading: \"https://download.pytorch.org/models/resnet18-f37072fd.pth\" to /root/.cache/torch/hub/checkpoints/resnet18-f37072fd.pth\n"
          ]
        },
        {
          "name": "stderr",
          "output_type": "stream",
          "text": [
            "100%|██████████| 44.7M/44.7M [00:00<00:00, 154MB/s]"
          ]
        },
        {
          "name": "stdout",
          "output_type": "stream",
          "text": [
            "ResNet18WithDropout(\n",
            "  (conv1): Conv2d(3, 64, kernel_size=(7, 7), stride=(2, 2), padding=(3, 3), bias=False)\n",
            "  (bn1): BatchNorm2d(64, eps=1e-05, momentum=0.1, affine=True, track_running_stats=True)\n",
            "  (relu): ReLU(inplace=True)\n",
            "  (maxpool): MaxPool2d(kernel_size=3, stride=2, padding=1, dilation=1, ceil_mode=False)\n",
            "  (layer1): Sequential(\n",
            "    (0): BasicBlock(\n",
            "      (conv1): Conv2d(64, 64, kernel_size=(3, 3), stride=(1, 1), padding=(1, 1), bias=False)\n",
            "      (bn1): BatchNorm2d(64, eps=1e-05, momentum=0.1, affine=True, track_running_stats=True)\n",
            "      (relu): ReLU(inplace=True)\n",
            "      (conv2): Conv2d(64, 64, kernel_size=(3, 3), stride=(1, 1), padding=(1, 1), bias=False)\n",
            "      (bn2): BatchNorm2d(64, eps=1e-05, momentum=0.1, affine=True, track_running_stats=True)\n",
            "    )\n",
            "    (1): BasicBlock(\n",
            "      (conv1): Conv2d(64, 64, kernel_size=(3, 3), stride=(1, 1), padding=(1, 1), bias=False)\n",
            "      (bn1): BatchNorm2d(64, eps=1e-05, momentum=0.1, affine=True, track_running_stats=True)\n",
            "      (relu): ReLU(inplace=True)\n",
            "      (conv2): Conv2d(64, 64, kernel_size=(3, 3), stride=(1, 1), padding=(1, 1), bias=False)\n",
            "      (bn2): BatchNorm2d(64, eps=1e-05, momentum=0.1, affine=True, track_running_stats=True)\n",
            "    )\n",
            "  )\n",
            "  (layer2): Sequential(\n",
            "    (0): BasicBlock(\n",
            "      (conv1): Conv2d(64, 128, kernel_size=(3, 3), stride=(2, 2), padding=(1, 1), bias=False)\n",
            "      (bn1): BatchNorm2d(128, eps=1e-05, momentum=0.1, affine=True, track_running_stats=True)\n",
            "      (relu): ReLU(inplace=True)\n",
            "      (conv2): Conv2d(128, 128, kernel_size=(3, 3), stride=(1, 1), padding=(1, 1), bias=False)\n",
            "      (bn2): BatchNorm2d(128, eps=1e-05, momentum=0.1, affine=True, track_running_stats=True)\n",
            "      (downsample): Sequential(\n",
            "        (0): Conv2d(64, 128, kernel_size=(1, 1), stride=(2, 2), bias=False)\n",
            "        (1): BatchNorm2d(128, eps=1e-05, momentum=0.1, affine=True, track_running_stats=True)\n",
            "      )\n",
            "    )\n",
            "    (1): BasicBlock(\n",
            "      (conv1): Conv2d(128, 128, kernel_size=(3, 3), stride=(1, 1), padding=(1, 1), bias=False)\n",
            "      (bn1): BatchNorm2d(128, eps=1e-05, momentum=0.1, affine=True, track_running_stats=True)\n",
            "      (relu): ReLU(inplace=True)\n",
            "      (conv2): Conv2d(128, 128, kernel_size=(3, 3), stride=(1, 1), padding=(1, 1), bias=False)\n",
            "      (bn2): BatchNorm2d(128, eps=1e-05, momentum=0.1, affine=True, track_running_stats=True)\n",
            "    )\n",
            "  )\n",
            "  (layer3): Sequential(\n",
            "    (0): BasicBlock(\n",
            "      (conv1): Conv2d(128, 256, kernel_size=(3, 3), stride=(2, 2), padding=(1, 1), bias=False)\n",
            "      (bn1): BatchNorm2d(256, eps=1e-05, momentum=0.1, affine=True, track_running_stats=True)\n",
            "      (relu): ReLU(inplace=True)\n",
            "      (conv2): Conv2d(256, 256, kernel_size=(3, 3), stride=(1, 1), padding=(1, 1), bias=False)\n",
            "      (bn2): BatchNorm2d(256, eps=1e-05, momentum=0.1, affine=True, track_running_stats=True)\n",
            "      (downsample): Sequential(\n",
            "        (0): Conv2d(128, 256, kernel_size=(1, 1), stride=(2, 2), bias=False)\n",
            "        (1): BatchNorm2d(256, eps=1e-05, momentum=0.1, affine=True, track_running_stats=True)\n",
            "      )\n",
            "    )\n",
            "    (1): BasicBlock(\n",
            "      (conv1): Conv2d(256, 256, kernel_size=(3, 3), stride=(1, 1), padding=(1, 1), bias=False)\n",
            "      (bn1): BatchNorm2d(256, eps=1e-05, momentum=0.1, affine=True, track_running_stats=True)\n",
            "      (relu): ReLU(inplace=True)\n",
            "      (conv2): Conv2d(256, 256, kernel_size=(3, 3), stride=(1, 1), padding=(1, 1), bias=False)\n",
            "      (bn2): BatchNorm2d(256, eps=1e-05, momentum=0.1, affine=True, track_running_stats=True)\n",
            "    )\n",
            "  )\n",
            "  (layer4): Sequential(\n",
            "    (0): BasicBlock(\n",
            "      (conv1): Conv2d(256, 512, kernel_size=(3, 3), stride=(2, 2), padding=(1, 1), bias=False)\n",
            "      (bn1): BatchNorm2d(512, eps=1e-05, momentum=0.1, affine=True, track_running_stats=True)\n",
            "      (relu): ReLU(inplace=True)\n",
            "      (conv2): Conv2d(512, 512, kernel_size=(3, 3), stride=(1, 1), padding=(1, 1), bias=False)\n",
            "      (bn2): BatchNorm2d(512, eps=1e-05, momentum=0.1, affine=True, track_running_stats=True)\n",
            "      (downsample): Sequential(\n",
            "        (0): Conv2d(256, 512, kernel_size=(1, 1), stride=(2, 2), bias=False)\n",
            "        (1): BatchNorm2d(512, eps=1e-05, momentum=0.1, affine=True, track_running_stats=True)\n",
            "      )\n",
            "    )\n",
            "    (1): BasicBlock(\n",
            "      (conv1): Conv2d(512, 512, kernel_size=(3, 3), stride=(1, 1), padding=(1, 1), bias=False)\n",
            "      (bn1): BatchNorm2d(512, eps=1e-05, momentum=0.1, affine=True, track_running_stats=True)\n",
            "      (relu): ReLU(inplace=True)\n",
            "      (conv2): Conv2d(512, 512, kernel_size=(3, 3), stride=(1, 1), padding=(1, 1), bias=False)\n",
            "      (bn2): BatchNorm2d(512, eps=1e-05, momentum=0.1, affine=True, track_running_stats=True)\n",
            "    )\n",
            "  )\n",
            "  (dropout1): Dropout(p=0.2, inplace=False)\n",
            "  (dropout2): Dropout(p=0.3, inplace=False)\n",
            "  (dropout3): Dropout(p=0.4, inplace=False)\n",
            "  (avgpool): AdaptiveAvgPool2d(output_size=(1, 1))\n",
            "  (fc): Sequential(\n",
            "    (0): Dropout(p=0.5, inplace=False)\n",
            "    (1): Linear(in_features=512, out_features=256, bias=True)\n",
            "    (2): ReLU()\n",
            "    (3): Dropout(p=0.4, inplace=False)\n",
            "    (4): Linear(in_features=256, out_features=2, bias=True)\n",
            "  )\n",
            ")\n",
            "\n",
            "Number of trainable parameters: 2,905,090\n"
          ]
        },
        {
          "name": "stderr",
          "output_type": "stream",
          "text": [
            "\n"
          ]
        }
      ],
      "source": [
        "import torch\n",
        "import torch.nn as nn\n",
        "import torchvision.models as models\n",
        "\n",
        "# Device\n",
        "device = torch.device(\"cuda\" if torch.cuda.is_available() else \"cpu\")\n",
        "\n",
        "class ResNet18WithDropout(nn.Module):\n",
        "    def __init__(self, pretrained=True):\n",
        "        super(ResNet18WithDropout, self).__init__()\n",
        "        # Load pretrained ResNet-18\n",
        "        base_model = models.resnet18(pretrained=pretrained)\n",
        "\n",
        "        # Freeze all layers\n",
        "        for param in base_model.parameters():\n",
        "            param.requires_grad = False\n",
        "\n",
        "        # Keep layers\n",
        "        self.conv1 = base_model.conv1\n",
        "        self.bn1 = base_model.bn1\n",
        "        self.relu = base_model.relu\n",
        "        self.maxpool = base_model.maxpool\n",
        "\n",
        "        self.layer1 = base_model.layer1\n",
        "        self.layer2 = base_model.layer2\n",
        "        self.layer3 = base_model.layer3\n",
        "        self.layer4 = base_model.layer4\n",
        "\n",
        "        # Add dropout after each big layer\n",
        "        self.dropout1 = nn.Dropout(p=0.2)\n",
        "        self.dropout2 = nn.Dropout(p=0.3)\n",
        "        self.dropout3 = nn.Dropout(p=0.4)\n",
        "\n",
        "        self.avgpool = base_model.avgpool\n",
        "        num_features = base_model.fc.in_features\n",
        "\n",
        "        # New classifier head\n",
        "        self.fc = nn.Sequential(\n",
        "            nn.Dropout(p=0.5),\n",
        "            nn.Linear(num_features, 256),\n",
        "            nn.ReLU(),\n",
        "            nn.Dropout(p=0.4),\n",
        "            nn.Linear(256, 2)\n",
        "        )\n",
        "\n",
        "        # Unfreeze layer1–3 for fine-tuning\n",
        "        for param in self.layer1.parameters():\n",
        "            param.requires_grad = True\n",
        "        for param in self.layer2.parameters():\n",
        "            param.requires_grad = True\n",
        "        for param in self.layer3.parameters():\n",
        "            param.requires_grad = True\n",
        "\n",
        "    def forward(self, x):\n",
        "        x = self.conv1(x)\n",
        "        x = self.bn1(x)\n",
        "        x = self.relu(x)\n",
        "        x = self.maxpool(x)\n",
        "\n",
        "        x = self.layer1(x)\n",
        "        x = self.dropout1(x)\n",
        "\n",
        "        x = self.layer2(x)\n",
        "        x = self.dropout2(x)\n",
        "\n",
        "        x = self.layer3(x)\n",
        "        x = self.dropout3(x)\n",
        "\n",
        "        x = self.layer4(x)\n",
        "\n",
        "        x = self.avgpool(x)\n",
        "        x = torch.flatten(x, 1)\n",
        "        x = self.fc(x)\n",
        "        return x\n",
        "\n",
        "# Instantiate\n",
        "model = ResNet18WithDropout(pretrained=True).to(device)\n",
        "\n",
        "# Print model summary\n",
        "print(model)\n",
        "\n",
        "# Count trainable params\n",
        "trainable_params = sum(p.numel() for p in model.parameters() if p.requires_grad)\n",
        "print(f\"\\nNumber of trainable parameters: {trainable_params:,}\")\n"
      ]
    },
    {
      "cell_type": "code",
      "execution_count": null,
      "metadata": {
        "id": "4F6als0giFZR"
      },
      "outputs": [],
      "source": [
        "optimizer = optim.Adam(model.parameters(), lr=1e-4, weight_decay=1e-4)\n",
        "criterion = nn.CrossEntropyLoss(weight=class_weights.to(device), label_smoothing=0.1)\n"
      ]
    },
    {
      "cell_type": "code",
      "execution_count": null,
      "metadata": {
        "id": "e3CfSnsKcbWA"
      },
      "outputs": [],
      "source": [
        "import torch\n",
        "import torch.nn as nn\n",
        "import torch.optim as optim\n",
        "import copy\n",
        "\n",
        "# Training function with early stopping\n",
        "def train_model(model, train_loader, val_loader, criterion, optimizer, epochs=10, patience=8):\n",
        "    best_acc = 0.0\n",
        "    patience_counter = 0\n",
        "    best_model_wts = copy.deepcopy(model.state_dict())\n",
        "\n",
        "    history = {\n",
        "        \"train_loss\": [],\n",
        "        \"val_loss\": [],\n",
        "        \"train_acc\": [],\n",
        "        \"val_acc\": []\n",
        "    }\n",
        "\n",
        "    for epoch in range(epochs):\n",
        "        model.train()\n",
        "        running_loss, correct, total = 0.0, 0, 0\n",
        "\n",
        "        for images, labels in train_loader:\n",
        "            images, labels = images.to(device), labels.to(device)\n",
        "\n",
        "            optimizer.zero_grad()\n",
        "            outputs = model(images)\n",
        "            loss = criterion(outputs, labels)\n",
        "            loss.backward()\n",
        "            optimizer.step()\n",
        "\n",
        "            running_loss += loss.item()\n",
        "            _, predicted = outputs.max(1)\n",
        "            total += labels.size(0)\n",
        "            correct += predicted.eq(labels).sum().item()\n",
        "\n",
        "        train_loss = running_loss / len(train_loader)\n",
        "        train_acc = 100 * correct / total\n",
        "\n",
        "        val_loss, val_acc = evaluate(model, val_loader, criterion)\n",
        "\n",
        "        # Save history\n",
        "        history[\"train_loss\"].append(train_loss)\n",
        "        history[\"val_loss\"].append(val_loss)\n",
        "        history[\"train_acc\"].append(train_acc)\n",
        "        history[\"val_acc\"].append(val_acc)\n",
        "\n",
        "        print(f\"Epoch {epoch+1}/{epochs}, \"\n",
        "              f\"Train Loss: {train_loss:.4f}, Val Loss: {val_loss:.4f}, \"\n",
        "              f\"Train Acc: {train_acc:.2f}%, Val Acc: {val_acc:.2f}%\")\n",
        "\n",
        "        # Check for improvement\n",
        "        if val_acc > best_acc:\n",
        "            best_acc = val_acc\n",
        "            best_model_wts = copy.deepcopy(model.state_dict())\n",
        "            patience_counter = 0\n",
        "            torch.save(best_model_wts, \"best_model.pt\")\n",
        "            torch.save(best_model_wts, \"best_model.pth\")\n",
        "            print(\"Best model updated and saved.\")\n",
        "        else:\n",
        "            patience_counter += 1\n",
        "            if patience_counter >= patience:\n",
        "                print(\"Early stopping triggered!\")\n",
        "                break\n",
        "\n",
        "    # Load best model weights\n",
        "    model.load_state_dict(best_model_wts)\n",
        "    return model, history\n",
        "\n",
        "\n",
        "# Evaluation with validation loss\n",
        "def evaluate(model, loader, criterion):\n",
        "    model.eval()\n",
        "    correct, total, running_loss = 0, 0, 0.0\n",
        "    with torch.no_grad():\n",
        "        for images, labels in loader:\n",
        "            images, labels = images.to(device), labels.to(device)\n",
        "            outputs = model(images)\n",
        "            loss = criterion(outputs, labels)\n",
        "            running_loss += loss.item()\n",
        "            _, predicted = outputs.max(1)\n",
        "            total += labels.size(0)\n",
        "            correct += predicted.eq(labels).sum().item()\n",
        "    avg_loss = running_loss / len(loader)\n",
        "    acc = 100 * correct / total\n",
        "    return avg_loss, acc\n",
        "\n",
        "\n",
        "# Function to print misclassified samples\n",
        "def print_misclassifications(model, loader, classes):\n",
        "    model.eval()\n",
        "    misclassified = []\n",
        "    with torch.no_grad():\n",
        "        for images, labels in loader:\n",
        "            images, labels = images.to(device), labels.to(device)\n",
        "            outputs = model(images)\n",
        "            _, predicted = outputs.max(1)\n",
        "            for i in range(len(labels)):\n",
        "                if predicted[i] != labels[i]:\n",
        "                    misclassified.append((predicted[i].item(), labels[i].item()))\n",
        "\n",
        "    print(\"\\nMisclassified Samples (Predicted -> Actual):\")\n",
        "    for pred, true in misclassified[:20]:  # Show first 20 only\n",
        "        print(f\"{classes[pred]} -> {classes[true]}\")\n"
      ]
    },
    {
      "cell_type": "code",
      "execution_count": null,
      "metadata": {
        "colab": {
          "background_save": true,
          "base_uri": "https://localhost:8080/"
        },
        "id": "zE76xLJBdCnr",
        "outputId": "d82ff110-6273-4716-a742-4f55e66804b3"
      },
      "outputs": [
        {
          "name": "stdout",
          "output_type": "stream",
          "text": [
            "Epoch 1/20, Train Loss: 0.5076, Val Loss: 0.3254, Train Acc: 79.75%, Val Acc: 93.75%\n",
            "Best model updated and saved.\n",
            "Epoch 2/20, Train Loss: 0.3570, Val Loss: 0.3425, Train Acc: 94.13%, Val Acc: 93.75%\n",
            "Epoch 3/20, Train Loss: 0.3367, Val Loss: 0.4573, Train Acc: 95.65%, Val Acc: 93.75%\n",
            "Epoch 4/20, Train Loss: 0.3300, Val Loss: 0.3459, Train Acc: 95.99%, Val Acc: 100.00%\n",
            "Best model updated and saved.\n",
            "Epoch 5/20, Train Loss: 0.3190, Val Loss: 0.2339, Train Acc: 96.97%, Val Acc: 100.00%\n",
            "Epoch 6/20, Train Loss: 0.3246, Val Loss: 0.4441, Train Acc: 96.57%, Val Acc: 93.75%\n",
            "Epoch 7/20, Train Loss: 0.3154, Val Loss: 0.7009, Train Acc: 96.99%, Val Acc: 62.50%\n",
            "Early stopping triggered!\n",
            "\n",
            "Misclassified Samples (Predicted -> Actual):\n"
          ]
        }
      ],
      "source": [
        "model, history = train_model(model, train_loader, val_loader, criterion, optimizer, epochs=20, patience=3)\n",
        "\n",
        "# Print misclassifications\n",
        "classes = [\"Normal\", \"Pneumonia\"]\n",
        "print_misclassifications(model, val_loader, classes)\n"
      ]
    },
    {
      "cell_type": "code",
      "execution_count": null,
      "metadata": {
        "id": "PPRAFqdkdNtw"
      },
      "outputs": [],
      "source": []
    },
    {
      "cell_type": "code",
      "execution_count": 17,
      "metadata": {
        "id": "4atijczOfPDL"
      },
      "outputs": [],
      "source": [
        "import matplotlib.pyplot as plt\n",
        "\n",
        "def plot_history(history):\n",
        "    # Loss\n",
        "    plt.figure(figsize=(12, 5))\n",
        "\n",
        "    plt.subplot(1, 2, 1)\n",
        "    plt.plot(history[\"train_loss\"], label=\"Train Loss\")\n",
        "    plt.plot(history[\"val_loss\"], label=\"Val Loss\")\n",
        "    plt.xlabel(\"Epochs\")\n",
        "    plt.ylabel(\"Loss\")\n",
        "    plt.title(\"Training vs Validation Loss\")\n",
        "    plt.legend()\n",
        "    plt.grid(True)\n",
        "\n",
        "    # Accuracy\n",
        "    plt.subplot(1, 2, 2)\n",
        "    plt.plot(history[\"train_acc\"], label=\"Train Acc\")\n",
        "    plt.plot(history[\"val_acc\"], label=\"Val Acc\")\n",
        "    plt.xlabel(\"Epochs\")\n",
        "    plt.ylabel(\"Accuracy (%)\")\n",
        "    plt.title(\"Training vs Validation Accuracy\")\n",
        "    plt.legend()\n",
        "    plt.grid(True)\n",
        "\n",
        "    plt.show()\n",
        "\n",
        "\n"
      ]
    },
    {
      "cell_type": "code",
      "execution_count": 18,
      "metadata": {
        "colab": {
          "base_uri": "https://localhost:8080/",
          "height": 487
        },
        "id": "ttV_b17sfO_B",
        "outputId": "139bbac8-f75c-481b-f942-f0570fdb70b4"
      },
      "outputs": [
        {
          "output_type": "display_data",
          "data": {
            "text/plain": [
              "<Figure size 1200x500 with 2 Axes>"
            ],
            "image/png": "[encoded data removed]"
          },
          "metadata": {}
        }
      ],
      "source": [
        "# ---- Call after training ----\n",
        "plot_history(history)"
      ]
    },
    {
      "cell_type": "code",
      "execution_count": null,
      "metadata": {
        "id": "_Zqno5erfO7n"
      },
      "outputs": [],
      "source": []
    },
    {
      "cell_type": "code",
      "execution_count": null,
      "metadata": {
        "id": "snXWEWQifO4c"
      },
      "outputs": [],
      "source": []
    },
    {
      "cell_type": "code",
      "execution_count": 19,
      "metadata": {
        "colab": {
          "base_uri": "https://localhost:8080/",
          "height": 695
        },
        "id": "dk7IWbTBfO1S",
        "outputId": "311299b9-5a17-42af-a045-0ec2cba2dec3"
      },
      "outputs": [
        {
          "output_type": "stream",
          "name": "stdout",
          "text": [
            "\n",
            "📊 Classification Report:\n",
            "\n",
            "              precision    recall  f1-score   support\n",
            "\n",
            "      Normal       0.95      0.87      0.91       234\n",
            "   Pneumonia       0.93      0.97      0.95       390\n",
            "\n",
            "    accuracy                           0.94       624\n",
            "   macro avg       0.94      0.92      0.93       624\n",
            "weighted avg       0.94      0.94      0.94       624\n",
            "\n"
          ]
        },
        {
          "output_type": "display_data",
          "data": {
            "text/plain": [
              "<Figure size 600x500 with 2 Axes>"
            ],
            "image/png": "[encoded data removed]"
          },
          "metadata": {}
        }
      ],
      "source": [
        "import torch\n",
        "import torch.nn.functional as F\n",
        "from sklearn.metrics import classification_report, confusion_matrix\n",
        "import matplotlib.pyplot as plt\n",
        "import seaborn as sns\n",
        "\n",
        "# Classes\n",
        "classes = [\"Normal\", \"Pneumonia\"]\n",
        "\n",
        "def predict_on_test(model, test_loader, device):\n",
        "    model.eval()\n",
        "    y_true, y_pred, y_probs = [], [], []\n",
        "\n",
        "    with torch.no_grad():\n",
        "        for images, labels in test_loader:\n",
        "            images, labels = images.to(device), labels.to(device)\n",
        "            outputs = model(images)\n",
        "\n",
        "            # Probabilities and predictions\n",
        "            probs = F.softmax(outputs, dim=1)\n",
        "            preds = torch.argmax(probs, dim=1)\n",
        "\n",
        "            y_true.extend(labels.cpu().numpy())\n",
        "            y_pred.extend(preds.cpu().numpy())\n",
        "            y_probs.extend(probs.cpu().numpy())\n",
        "\n",
        "    # Classification report\n",
        "    print(\"\\n📊 Classification Report:\\n\")\n",
        "    print(classification_report(y_true, y_pred, target_names=classes))\n",
        "\n",
        "    # Confusion matrix\n",
        "    cm = confusion_matrix(y_true, y_pred)\n",
        "    plt.figure(figsize=(6, 5))\n",
        "    sns.heatmap(cm, annot=True, fmt=\"d\", cmap=\"Blues\",\n",
        "                xticklabels=classes, yticklabels=classes)\n",
        "    plt.xlabel(\"Predicted\")\n",
        "    plt.ylabel(\"True\")\n",
        "    plt.title(\"Confusion Matrix on Test Set\")\n",
        "    plt.show()\n",
        "\n",
        "    return y_true, y_pred, y_probs\n",
        "\n",
        "# ---- Run prediction ----\n",
        "y_true, y_pred, y_probs = predict_on_test(model, test_loader, device)\n"
      ]
    },
    {
      "cell_type": "code",
      "execution_count": null,
      "metadata": {
        "id": "l1RT8Xm4o_vv"
      },
      "outputs": [],
      "source": []
    }
  ],
  "metadata": {
    "accelerator": "GPU",
    "colab": {
      "gpuType": "T4",
      "provenance": []
    },
    "kernelspec": {
      "display_name": "Python 3",
      "name": "python3"
    },
    "language_info": {
      "name": "python"
    }
  },
  "nbformat": 4,
  "nbformat_minor": 0
}